{
  "nbformat": 4,
  "nbformat_minor": 0,
  "metadata": {
    "colab": {
      "provenance": []
    },
    "kernelspec": {
      "name": "python3",
      "display_name": "Python 3"
    },
    "language_info": {
      "name": "python"
    }
  },
  "cells": [
    {
      "cell_type": "code",
      "metadata": {
        "colab": {
          "base_uri": "https://localhost:8080/"
        },
        "id": "IM6TeQcWGg2_",
        "outputId": "77d8bd8b-ea0f-4b70-e66c-5b9298865c4c"
      },
      "source": [
        "print(\"This line will be printed\")"
      ],
      "execution_count": null,
      "outputs": [
        {
          "output_type": "stream",
          "name": "stdout",
          "text": [
            "This line will be printed\n"
          ]
        }
      ]
    },
    {
      "cell_type": "code",
      "metadata": {
        "colab": {
          "base_uri": "https://localhost:8080/"
        },
        "id": "WwIfaiRZHBip",
        "outputId": "fe43b5e0-db57-4a64-b996-667cce6e745c"
      },
      "source": [
        "name ='John'\n",
        "age=23\n",
        "print(\"%s is %d years old\"%(name,age))"
      ],
      "execution_count": null,
      "outputs": [
        {
          "output_type": "stream",
          "name": "stdout",
          "text": [
            "John is 23 years old\n"
          ]
        }
      ]
    },
    {
      "cell_type": "code",
      "metadata": {
        "colab": {
          "base_uri": "https://localhost:8080/"
        },
        "id": "IFkdQIa8HaKG",
        "outputId": "9a3ed78a-b316-4061-b371-e908902ee0e9"
      },
      "source": [
        "name=input()\n",
        "age=int(input())\n",
        "print(f'{name} is {age} years old')"
      ],
      "execution_count": null,
      "outputs": [
        {
          "output_type": "stream",
          "name": "stdout",
          "text": [
            "Sajeeb\n",
            "22\n",
            "Sajeeb is 22 years old\n"
          ]
        }
      ]
    },
    {
      "cell_type": "code",
      "metadata": {
        "colab": {
          "base_uri": "https://localhost:8080/"
        },
        "id": "44MsqLsmSBjq",
        "outputId": "a34d3acd-715e-4c7e-a1b1-2db6da314004"
      },
      "source": [
        "## lab task\n",
        "print(f'1 week = {7*24*60*60} seconds')"
      ],
      "execution_count": null,
      "outputs": [
        {
          "output_type": "stream",
          "name": "stdout",
          "text": [
            "1 week = 604800 seconds\n"
          ]
        }
      ]
    },
    {
      "cell_type": "code",
      "metadata": {
        "id": "iSXe9r64TyDf"
      },
      "source": [],
      "execution_count": null,
      "outputs": []
    },
    {
      "cell_type": "code",
      "metadata": {
        "colab": {
          "base_uri": "https://localhost:8080/"
        },
        "id": "D7AosyDfTwJ_",
        "outputId": "ae762d24-9abb-414a-e727-ac3aa04202b4"
      },
      "source": [
        "name=input()\n",
        "basic=float(input(\"Enter your salary: \"))\n",
        "houseRent=0.5*basic\n",
        "medical=float(input(\"Enter value: \"))\n",
        "net_salary=basic+houseRent+medical\n",
        "print(f'{name} earns Tk. {net_salary}')\n"
      ],
      "execution_count": null,
      "outputs": [
        {
          "output_type": "stream",
          "name": "stdout",
          "text": [
            "Sajeeb\n",
            "Enter your salary: 50000\n",
            "Enter value: 5000\n",
            "Sajeeb earns Tk. 80000.0\n"
          ]
        }
      ]
    },
    {
      "cell_type": "code",
      "metadata": {
        "colab": {
          "base_uri": "https://localhost:8080/"
        },
        "id": "1mkds6X-Vf1H",
        "outputId": "8ecb0135-5ca5-446e-ea96-d444c1c293c6"
      },
      "source": [
        "print(id(net_salary))\n",
        "print(type(net_salary))\n",
        "print(isinstance(net_salary,int))"
      ],
      "execution_count": null,
      "outputs": [
        {
          "output_type": "stream",
          "name": "stdout",
          "text": [
            "140507995333200\n",
            "<class 'float'>\n",
            "False\n"
          ]
        }
      ]
    },
    {
      "cell_type": "code",
      "metadata": {
        "colab": {
          "base_uri": "https://localhost:8080/"
        },
        "id": "9OKGn9ruTZ7g",
        "outputId": "a9b81e43-d6d6-475e-8c9a-f92b3c25d1d1"
      },
      "source": [
        "a = 1000\n",
        "b = 1000\n",
        "c = a\n",
        "print(a==b)\n",
        "print(a is b)\n",
        "print(id(a))\n",
        "print(id(b))\n",
        "print(id(c))"
      ],
      "execution_count": null,
      "outputs": [
        {
          "output_type": "stream",
          "name": "stdout",
          "text": [
            "True\n",
            "False\n",
            "140507873611664\n",
            "140507873608784\n",
            "140507873611664\n"
          ]
        }
      ]
    },
    {
      "cell_type": "code",
      "metadata": {
        "colab": {
          "base_uri": "https://localhost:8080/"
        },
        "id": "CHJxQCszWZf3",
        "outputId": "3c4d6f5d-3747-43e8-832d-84e3a22b5cdd"
      },
      "source": [
        "p = 20\n",
        "q = 10\n",
        "r = p>q\n",
        "print(r)\n",
        "print(type(r))"
      ],
      "execution_count": null,
      "outputs": [
        {
          "output_type": "stream",
          "name": "stdout",
          "text": [
            "True\n",
            "<class 'bool'>\n"
          ]
        }
      ]
    },
    {
      "cell_type": "code",
      "metadata": {
        "colab": {
          "base_uri": "https://localhost:8080/"
        },
        "id": "WmAv-JIlTGN3",
        "outputId": "db3f0d9a-0c34-4929-90a8-e73396df0290"
      },
      "source": [
        "marks=float(input())\n",
        "if marks>=90:\n",
        "  grade =\"A\"\n",
        "elif marks>=80 and marks<90:\n",
        "  grade = \"B\"\n",
        "else:\n",
        "  grade = \"C\"\n",
        "print(f'Grade is {grade}')\n",
        "\n"
      ],
      "execution_count": null,
      "outputs": [
        {
          "output_type": "stream",
          "name": "stdout",
          "text": [
            "90\n",
            "Grade is A\n"
          ]
        }
      ]
    },
    {
      "cell_type": "code",
      "metadata": {
        "colab": {
          "base_uri": "https://localhost:8080/"
        },
        "id": "rNNx9VDxZt_o",
        "outputId": "52713fbb-2d24-4b49-e33d-71aebcea5ae1"
      },
      "source": [
        "i = 1\n",
        "while i < 11:\n",
        "  if i%2==0:\n",
        "    print(i)\n",
        "  i=i+1"
      ],
      "execution_count": null,
      "outputs": [
        {
          "output_type": "stream",
          "name": "stdout",
          "text": [
            "2\n",
            "4\n",
            "6\n",
            "8\n",
            "10\n"
          ]
        }
      ]
    },
    {
      "cell_type": "code",
      "metadata": {
        "colab": {
          "base_uri": "https://localhost:8080/"
        },
        "id": "FnqkSK-hZsco",
        "outputId": "1fbb7e5a-ad26-47e8-be31-834b0cdd6bcf"
      },
      "source": [
        "a = int(input())\n",
        "b = int(input())\n",
        "i = 1\n",
        "while i<=a and i<=b:\n",
        "  if a%i==0 and b%i==0:\n",
        "    gcd=i\n",
        "  i=i+1\n",
        "print(gcd)\n"
      ],
      "execution_count": null,
      "outputs": [
        {
          "output_type": "stream",
          "name": "stdout",
          "text": [
            "8\n",
            "12\n",
            "4\n"
          ]
        }
      ]
    },
    {
      "cell_type": "code",
      "metadata": {
        "colab": {
          "base_uri": "https://localhost:8080/"
        },
        "id": "_5fYQ2KVeOD7",
        "outputId": "013eb91e-29f2-4a4b-d875-26082ce44142"
      },
      "source": [
        "def square(a):\n",
        "  return a**2\n",
        "a=int(input())\n",
        "print(square(a))\n"
      ],
      "execution_count": null,
      "outputs": [
        {
          "output_type": "stream",
          "name": "stdout",
          "text": [
            "5\n",
            "25\n"
          ]
        }
      ]
    },
    {
      "cell_type": "code",
      "metadata": {
        "colab": {
          "base_uri": "https://localhost:8080/"
        },
        "id": "ob4EJgSdjOmr",
        "outputId": "76006254-22b2-49d3-9144-94f3fd515544"
      },
      "source": [
        "list1=[1,2,3,4,5]\n",
        "list1[-5: :3]"
      ],
      "execution_count": null,
      "outputs": [
        {
          "output_type": "execute_result",
          "data": {
            "text/plain": [
              "[1, 4]"
            ]
          },
          "metadata": {},
          "execution_count": 28
        }
      ]
    }
  ]
}