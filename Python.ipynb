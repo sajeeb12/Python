{
  "cells": [
    {
      "cell_type": "code",
      "execution_count": null,
      "metadata": {
        "id": "uTCB8fOTjLPb"
      },
      "outputs": [],
      "source": [
        "3# Using python as a Calculator"
      ]
    },
    {
      "cell_type": "code",
      "execution_count": null,
      "metadata": {
        "colab": {
          "base_uri": "https://localhost:8080/"
        },
        "id": "fVAAyJmHj6_s",
        "outputId": "a661a145-53ed-403a-e6ce-8977e81e1788"
      },
      "outputs": [
        {
          "output_type": "execute_result",
          "data": {
            "text/plain": [
              "4"
            ]
          },
          "metadata": {},
          "execution_count": 2
        }
      ],
      "source": [
        "2+2"
      ]
    },
    {
      "cell_type": "code",
      "execution_count": null,
      "metadata": {
        "colab": {
          "base_uri": "https://localhost:8080/"
        },
        "id": "nyAPPO7tkCK7",
        "outputId": "9edff393-67af-4525-a848-b0afaf8d36c5"
      },
      "outputs": [
        {
          "output_type": "execute_result",
          "data": {
            "text/plain": [
              "20"
            ]
          },
          "metadata": {},
          "execution_count": 3
        }
      ],
      "source": [
        "50-5*6"
      ]
    },
    {
      "cell_type": "code",
      "execution_count": null,
      "metadata": {
        "colab": {
          "base_uri": "https://localhost:8080/"
        },
        "id": "_BF5togXkE4y",
        "outputId": "6164f874-3fd0-4260-fb7f-401943783ebd"
      },
      "outputs": [
        {
          "output_type": "execute_result",
          "data": {
            "text/plain": [
              "1.6"
            ]
          },
          "metadata": {},
          "execution_count": 4
        }
      ],
      "source": [
        "8/5  #Divison always return floating point"
      ]
    },
    {
      "cell_type": "code",
      "execution_count": null,
      "metadata": {
        "colab": {
          "base_uri": "https://localhost:8080/"
        },
        "id": "2HLjXLLqkIml",
        "outputId": "2f18656b-05c9-4002-ac7f-5cca10456307"
      },
      "outputs": [
        {
          "output_type": "execute_result",
          "data": {
            "text/plain": [
              "5.666666666666667"
            ]
          },
          "metadata": {},
          "execution_count": 5
        }
      ],
      "source": [
        "17/3"
      ]
    },
    {
      "cell_type": "code",
      "execution_count": null,
      "metadata": {
        "colab": {
          "base_uri": "https://localhost:8080/"
        },
        "id": "4BrQqHk-kZbc",
        "outputId": "f22c5ed2-47dc-49bb-bdc6-347fa21ff471"
      },
      "outputs": [
        {
          "output_type": "execute_result",
          "data": {
            "text/plain": [
              "5"
            ]
          },
          "metadata": {},
          "execution_count": 6
        }
      ],
      "source": [
        "17//3 #floor division discard the fractional part"
      ]
    },
    {
      "cell_type": "code",
      "execution_count": null,
      "metadata": {
        "colab": {
          "base_uri": "https://localhost:8080/"
        },
        "id": "-OAsMmA2kbnC",
        "outputId": "7565b6b0-8bff-4000-e3a1-3351043c4986"
      },
      "outputs": [
        {
          "output_type": "execute_result",
          "data": {
            "text/plain": [
              "2"
            ]
          },
          "metadata": {},
          "execution_count": 7
        }
      ],
      "source": [
        "17%3 # % returns the remainders"
      ]
    },
    {
      "cell_type": "code",
      "execution_count": null,
      "metadata": {
        "colab": {
          "base_uri": "https://localhost:8080/"
        },
        "id": "WTWBQMx-kvGw",
        "outputId": "ff365edb-0bcf-4273-9874-d5529f92d2aa"
      },
      "outputs": [
        {
          "output_type": "execute_result",
          "data": {
            "text/plain": [
              "25"
            ]
          },
          "metadata": {},
          "execution_count": 8
        }
      ],
      "source": [
        "5 ** 2 # square of 5"
      ]
    },
    {
      "cell_type": "code",
      "execution_count": null,
      "metadata": {
        "colab": {
          "base_uri": "https://localhost:8080/"
        },
        "id": "AZuPLw7ck4Hd",
        "outputId": "428cce93-1ddb-40ad-def6-8a2c0f3d6888"
      },
      "outputs": [
        {
          "output_type": "execute_result",
          "data": {
            "text/plain": [
              "128"
            ]
          },
          "metadata": {},
          "execution_count": 9
        }
      ],
      "source": [
        "2 ** 7 # 2 to the power 7"
      ]
    },
    {
      "cell_type": "markdown",
      "metadata": {
        "id": "rzZtqNG3lC8y"
      },
      "source": [
        "##The equal sign (=) is used to assign a value to a variable. Afterwards, no result is displayed before the next interactive prompt:"
      ]
    },
    {
      "cell_type": "code",
      "execution_count": null,
      "metadata": {
        "colab": {
          "base_uri": "https://localhost:8080/"
        },
        "id": "soZ6LVHyk-G1",
        "outputId": "65e34073-d0e6-429a-dad2-70099ef18100"
      },
      "outputs": [
        {
          "output_type": "execute_result",
          "data": {
            "text/plain": [
              "900"
            ]
          },
          "metadata": {},
          "execution_count": 10
        }
      ],
      "source": [
        "width = 20\n",
        "height = 5 * 9\n",
        "width * height"
      ]
    },
    {
      "cell_type": "code",
      "execution_count": null,
      "metadata": {
        "colab": {
          "base_uri": "https://localhost:8080/"
        },
        "id": "9WN2AFX9lNIV",
        "outputId": "9025591e-c5d9-49a9-a81d-9b497a451be1"
      },
      "outputs": [
        {
          "output_type": "execute_result",
          "data": {
            "text/plain": [
              "14.0"
            ]
          },
          "metadata": {},
          "execution_count": 11
        }
      ],
      "source": [
        "4 * 3.75 - 1"
      ]
    },
    {
      "cell_type": "code",
      "execution_count": null,
      "metadata": {
        "colab": {
          "base_uri": "https://localhost:8080/"
        },
        "id": "g9dtct69lhnV",
        "outputId": "d23b1ceb-84cd-4f95-8c60-54979e32c4bf"
      },
      "outputs": [
        {
          "output_type": "execute_result",
          "data": {
            "text/plain": [
              "12.5625"
            ]
          },
          "metadata": {},
          "execution_count": 12
        }
      ],
      "source": [
        "tax = 12.5 /100\n",
        "price = 100.50\n",
        "tax * price"
      ]
    },
    {
      "cell_type": "code",
      "execution_count": null,
      "metadata": {
        "colab": {
          "base_uri": "https://localhost:8080/"
        },
        "id": "R45ow_jalw5a",
        "outputId": "dc2e0897-c0c7-4c04-fbb5-1edd51fa6268"
      },
      "outputs": [
        {
          "output_type": "execute_result",
          "data": {
            "text/plain": [
              "113.0625"
            ]
          },
          "metadata": {},
          "execution_count": 13
        }
      ],
      "source": [
        "price + _"
      ]
    },
    {
      "cell_type": "code",
      "execution_count": null,
      "metadata": {
        "colab": {
          "base_uri": "https://localhost:8080/"
        },
        "id": "mV8iAdyOn0sd",
        "outputId": "ee2651c1-7cc6-4891-afc6-d99272ccbb96"
      },
      "outputs": [
        {
          "output_type": "execute_result",
          "data": {
            "text/plain": [
              "113.06"
            ]
          },
          "metadata": {},
          "execution_count": 14
        }
      ],
      "source": [
        "round(_,2)"
      ]
    },
    {
      "cell_type": "markdown",
      "metadata": {
        "id": "BxYqlBNYoDsg"
      },
      "source": [
        "## Text"
      ]
    },
    {
      "cell_type": "code",
      "execution_count": null,
      "metadata": {
        "colab": {
          "base_uri": "https://localhost:8080/",
          "height": 35
        },
        "id": "jgrHOMOvn_vi",
        "outputId": "2056feeb-faad-4e7d-b42a-439cbc4e5b08"
      },
      "outputs": [
        {
          "output_type": "execute_result",
          "data": {
            "text/plain": [
              "'2023'"
            ],
            "application/vnd.google.colaboratory.intrinsic+json": {
              "type": "string"
            }
          },
          "metadata": {},
          "execution_count": 15
        }
      ],
      "source": [
        "'spam eggs' # Single quote\n",
        "\"Paris rabbit got your back :)! Yay!\" # Double Quotes\n",
        "'2023' # digit and number enclosed in quotes are also string"
      ]
    },
    {
      "cell_type": "code",
      "execution_count": null,
      "metadata": {
        "colab": {
          "base_uri": "https://localhost:8080/",
          "height": 35
        },
        "id": "ZkC5RFsXoQ0S",
        "outputId": "d0cbfb0c-0046-439a-d29a-c63398b75452"
      },
      "outputs": [
        {
          "output_type": "execute_result",
          "data": {
            "text/plain": [
              "'First Line.\\nSecond Line'"
            ],
            "application/vnd.google.colaboratory.intrinsic+json": {
              "type": "string"
            }
          },
          "metadata": {},
          "execution_count": 16
        }
      ],
      "source": [
        "s = 'First Line.\\nSecond Line'\n",
        "s"
      ]
    },
    {
      "cell_type": "code",
      "execution_count": null,
      "metadata": {
        "colab": {
          "base_uri": "https://localhost:8080/"
        },
        "id": "cqCXJuEhqDBz",
        "outputId": "fe38bf3d-9124-4b67-f604-0a3d9ecc330c"
      },
      "outputs": [
        {
          "output_type": "stream",
          "name": "stdout",
          "text": [
            "First Line.\n",
            "Second Line\n"
          ]
        }
      ],
      "source": [
        "print(s)"
      ]
    },
    {
      "cell_type": "code",
      "execution_count": null,
      "metadata": {
        "colab": {
          "base_uri": "https://localhost:8080/"
        },
        "id": "SV_q952pqLsS",
        "outputId": "f722b306-35cc-4301-f574-f8b15234bec7"
      },
      "outputs": [
        {
          "output_type": "stream",
          "name": "stdout",
          "text": [
            "C\\some\n",
            "ame\n"
          ]
        }
      ],
      "source": [
        "print('C\\some\\name') # Here n means new line"
      ]
    },
    {
      "cell_type": "code",
      "execution_count": null,
      "metadata": {
        "colab": {
          "base_uri": "https://localhost:8080/"
        },
        "id": "ZlDoxNHTqZRZ",
        "outputId": "d37228b8-82a3-41f1-b4b2-85423ffc8e99"
      },
      "outputs": [
        {
          "output_type": "stream",
          "name": "stdout",
          "text": [
            "C\\some\\name\n"
          ]
        }
      ],
      "source": [
        "print(r'C\\some\\name')"
      ]
    },
    {
      "cell_type": "code",
      "execution_count": null,
      "metadata": {
        "colab": {
          "base_uri": "https://localhost:8080/",
          "height": 35
        },
        "id": "-nc7QIM6qdEO",
        "outputId": "5428c767-c5b8-4506-ebf4-3aa079c997eb"
      },
      "outputs": [
        {
          "output_type": "execute_result",
          "data": {
            "text/plain": [
              "'unununium'"
            ],
            "application/vnd.google.colaboratory.intrinsic+json": {
              "type": "string"
            }
          },
          "metadata": {},
          "execution_count": 20
        }
      ],
      "source": [
        "3 * 'un' +'ium' # Strings can be concatenated with + operator and repeated with * operator"
      ]
    },
    {
      "cell_type": "code",
      "execution_count": null,
      "metadata": {
        "colab": {
          "base_uri": "https://localhost:8080/",
          "height": 35
        },
        "id": "X5S8YiL1q4Wj",
        "outputId": "872c0bf8-c22a-45b0-bf1b-2eef9e2b158b"
      },
      "outputs": [
        {
          "output_type": "execute_result",
          "data": {
            "text/plain": [
              "'python'"
            ],
            "application/vnd.google.colaboratory.intrinsic+json": {
              "type": "string"
            }
          },
          "metadata": {},
          "execution_count": 21
        }
      ],
      "source": [
        "'py' 'thon'"
      ]
    },
    {
      "cell_type": "code",
      "execution_count": null,
      "metadata": {
        "colab": {
          "base_uri": "https://localhost:8080/",
          "height": 35
        },
        "id": "_GTWaOwhrCBR",
        "outputId": "0750add9-adc3-460a-98e4-ee789296274b"
      },
      "outputs": [
        {
          "output_type": "execute_result",
          "data": {
            "text/plain": [
              "'python'"
            ],
            "application/vnd.google.colaboratory.intrinsic+json": {
              "type": "string"
            }
          },
          "metadata": {},
          "execution_count": 22
        }
      ],
      "source": [
        "prefix = 'py'\n",
        "prefix + 'thon'"
      ]
    },
    {
      "cell_type": "markdown",
      "metadata": {
        "id": "_jT3p3-HrZoG"
      },
      "source": [
        "##Strings can be indexed (subscripted), with the first character having index 0. There is no separate character type; a character is simply a string of size one:"
      ]
    },
    {
      "cell_type": "code",
      "execution_count": null,
      "metadata": {
        "colab": {
          "base_uri": "https://localhost:8080/",
          "height": 35
        },
        "id": "eQJ6_tshrLd9",
        "outputId": "f67dd684-b48d-4aec-ae57-2d70f72ab06a"
      },
      "outputs": [
        {
          "output_type": "execute_result",
          "data": {
            "text/plain": [
              "'P'"
            ],
            "application/vnd.google.colaboratory.intrinsic+json": {
              "type": "string"
            }
          },
          "metadata": {},
          "execution_count": 23
        }
      ],
      "source": [
        "word = 'Python'\n",
        "word[0] # character in position 0"
      ]
    },
    {
      "cell_type": "code",
      "execution_count": null,
      "metadata": {
        "colab": {
          "base_uri": "https://localhost:8080/",
          "height": 35
        },
        "id": "iwMWADIErhca",
        "outputId": "25c541de-d9f5-45d1-be4e-ff95ad8429c4"
      },
      "outputs": [
        {
          "output_type": "execute_result",
          "data": {
            "text/plain": [
              "'n'"
            ],
            "application/vnd.google.colaboratory.intrinsic+json": {
              "type": "string"
            }
          },
          "metadata": {},
          "execution_count": 24
        }
      ],
      "source": [
        "word[5] # character in position 5"
      ]
    },
    {
      "cell_type": "code",
      "execution_count": null,
      "metadata": {
        "colab": {
          "base_uri": "https://localhost:8080/"
        },
        "id": "Ha0W8ZsXrsMB",
        "outputId": "5765f5f4-f2a8-4ce4-d2c7-7dca5682030e"
      },
      "outputs": [
        {
          "output_type": "stream",
          "name": "stdout",
          "text": [
            "n\n",
            "o\n",
            "P\n"
          ]
        }
      ],
      "source": [
        "print(word[-1]) # last character\n",
        "print(word[-2]) # second last character\n",
        "print(word[-6])"
      ]
    },
    {
      "cell_type": "markdown",
      "metadata": {
        "id": "xypV7QZMsIqU"
      },
      "source": [
        "### Slicing\n"
      ]
    },
    {
      "cell_type": "code",
      "execution_count": null,
      "metadata": {
        "colab": {
          "base_uri": "https://localhost:8080/",
          "height": 35
        },
        "id": "O4Hv4tetsBPS",
        "outputId": "a8dfc28a-e94f-40e6-ed16-7c011e30183d"
      },
      "outputs": [
        {
          "output_type": "execute_result",
          "data": {
            "text/plain": [
              "'Py'"
            ],
            "application/vnd.google.colaboratory.intrinsic+json": {
              "type": "string"
            }
          },
          "metadata": {},
          "execution_count": 26
        }
      ],
      "source": [
        "word[0:2] #character from 0 to 2 position [0 included, 2 excluded]"
      ]
    },
    {
      "cell_type": "code",
      "execution_count": null,
      "metadata": {
        "colab": {
          "base_uri": "https://localhost:8080/",
          "height": 35
        },
        "id": "s_JNZSwPsW1N",
        "outputId": "aa83b0e9-a7b2-49b4-af8e-cc8926ff7485"
      },
      "outputs": [
        {
          "output_type": "execute_result",
          "data": {
            "text/plain": [
              "'tho'"
            ],
            "application/vnd.google.colaboratory.intrinsic+json": {
              "type": "string"
            }
          },
          "metadata": {},
          "execution_count": 27
        }
      ],
      "source": [
        "word[2:5]"
      ]
    },
    {
      "cell_type": "code",
      "execution_count": null,
      "metadata": {
        "colab": {
          "base_uri": "https://localhost:8080/",
          "height": 35
        },
        "id": "by6FvUk0saLW",
        "outputId": "5d956e4b-4bc6-45fc-a762-6c18bc16aad8"
      },
      "outputs": [
        {
          "output_type": "execute_result",
          "data": {
            "text/plain": [
              "'Py'"
            ],
            "application/vnd.google.colaboratory.intrinsic+json": {
              "type": "string"
            }
          },
          "metadata": {},
          "execution_count": 28
        }
      ],
      "source": [
        "word[:2] # character from 0 to 2 position( 2 excluded )"
      ]
    },
    {
      "cell_type": "code",
      "execution_count": null,
      "metadata": {
        "colab": {
          "base_uri": "https://localhost:8080/",
          "height": 35
        },
        "id": "9csfklLJskdI",
        "outputId": "6a63f1dd-fb7e-4c90-c850-6d0a7e3416c8"
      },
      "outputs": [
        {
          "output_type": "execute_result",
          "data": {
            "text/plain": [
              "'on'"
            ],
            "application/vnd.google.colaboratory.intrinsic+json": {
              "type": "string"
            }
          },
          "metadata": {},
          "execution_count": 29
        }
      ],
      "source": [
        "word[4:] # character from 4 to the end"
      ]
    },
    {
      "cell_type": "code",
      "execution_count": null,
      "metadata": {
        "colab": {
          "base_uri": "https://localhost:8080/",
          "height": 35
        },
        "id": "p0nABTyrtKAU",
        "outputId": "dcd4e90c-7070-49e2-da7f-7e6c2501d5a1"
      },
      "outputs": [
        {
          "output_type": "execute_result",
          "data": {
            "text/plain": [
              "'on'"
            ],
            "application/vnd.google.colaboratory.intrinsic+json": {
              "type": "string"
            }
          },
          "metadata": {},
          "execution_count": 30
        }
      ],
      "source": [
        "word[-2:] # character from second last character to end character"
      ]
    },
    {
      "cell_type": "code",
      "execution_count": null,
      "metadata": {
        "colab": {
          "base_uri": "https://localhost:8080/",
          "height": 35
        },
        "id": "RaSLTUhetWoi",
        "outputId": "98bbfb03-78fc-46ec-f5c5-00051f2fdead"
      },
      "outputs": [
        {
          "output_type": "execute_result",
          "data": {
            "text/plain": [
              "'Python'"
            ],
            "application/vnd.google.colaboratory.intrinsic+json": {
              "type": "string"
            }
          },
          "metadata": {},
          "execution_count": 31
        }
      ],
      "source": [
        "word[:2] + word [2:]"
      ]
    },
    {
      "cell_type": "code",
      "execution_count": null,
      "metadata": {
        "id": "62xTaGz6tif3"
      },
      "outputs": [],
      "source": [
        "#  +---+---+---+---+---+---+\n",
        "#  | P | y | t | h | o | n |\n",
        "#  +---+---+---+---+---+---+\n",
        "#  0   1   2   3   4   5   6\n",
        "# -6  -5  -4  -3  -2  -1"
      ]
    },
    {
      "cell_type": "markdown",
      "metadata": {
        "id": "-vGGh2CYuHpO"
      },
      "source": [
        "#### * Pyhton strings cannot be change they are immutables.\n",
        "\n",
        "word[0] = 'J'\n",
        "\n",
        "---------------------------------------------------------------------------\n",
        "TypeError                                 Traceback (most recent call last)\n",
        "<ipython-input-41-91a956888ca7> in <cell line: 1>()\n",
        "----> 1 word[0] = 'J'\n",
        "\n",
        "TypeError: 'str' object does not support item assignment"
      ]
    },
    {
      "cell_type": "code",
      "execution_count": null,
      "metadata": {
        "colab": {
          "base_uri": "https://localhost:8080/"
        },
        "id": "6M7LcZLnt36I",
        "outputId": "898c7427-120e-4d1f-c7e6-7cd532cacf3e"
      },
      "outputs": [
        {
          "output_type": "execute_result",
          "data": {
            "text/plain": [
              "6"
            ]
          },
          "metadata": {},
          "execution_count": 33
        }
      ],
      "source": [
        "# len use for find the length of a string\n",
        "len(word)"
      ]
    },
    {
      "cell_type": "markdown",
      "metadata": {
        "id": "xu8JaHoNuvTP"
      },
      "source": [
        "## List"
      ]
    },
    {
      "cell_type": "code",
      "execution_count": null,
      "metadata": {
        "colab": {
          "base_uri": "https://localhost:8080/"
        },
        "id": "2ZqLqJh-uQyc",
        "outputId": "81c4a026-dd06-4ecc-d1fc-2c7faa0f79b0"
      },
      "outputs": [
        {
          "output_type": "execute_result",
          "data": {
            "text/plain": [
              "[1, 4, 9, 16]"
            ]
          },
          "metadata": {},
          "execution_count": 34
        }
      ],
      "source": [
        "squares = [1,4,9,16]\n",
        "squares"
      ]
    },
    {
      "cell_type": "markdown",
      "metadata": {
        "id": "16HqiLUnu-cu"
      },
      "source": [
        "### Like strings (and all other built-in sequence types), lists can be indexed and sliced:"
      ]
    },
    {
      "cell_type": "code",
      "execution_count": null,
      "metadata": {
        "colab": {
          "base_uri": "https://localhost:8080/"
        },
        "id": "TsFu576Qu5XS",
        "outputId": "36299788-06e5-4ec0-ff76-0c411690ab83"
      },
      "outputs": [
        {
          "output_type": "execute_result",
          "data": {
            "text/plain": [
              "1"
            ]
          },
          "metadata": {},
          "execution_count": 35
        }
      ],
      "source": [
        "squares[0]"
      ]
    },
    {
      "cell_type": "code",
      "execution_count": null,
      "metadata": {
        "colab": {
          "base_uri": "https://localhost:8080/"
        },
        "id": "MjJFFJJPvBKq",
        "outputId": "7d8e6009-7112-4608-d6fb-d94d719e9702"
      },
      "outputs": [
        {
          "output_type": "execute_result",
          "data": {
            "text/plain": [
              "16"
            ]
          },
          "metadata": {},
          "execution_count": 36
        }
      ],
      "source": [
        "squares[3]"
      ]
    },
    {
      "cell_type": "code",
      "execution_count": null,
      "metadata": {
        "colab": {
          "base_uri": "https://localhost:8080/"
        },
        "id": "APKTOcmyvDN4",
        "outputId": "5db30563-58b1-44f9-d20a-adba2dfa7e0a"
      },
      "outputs": [
        {
          "output_type": "execute_result",
          "data": {
            "text/plain": [
              "16"
            ]
          },
          "metadata": {},
          "execution_count": 37
        }
      ],
      "source": [
        "squares[-1]"
      ]
    },
    {
      "cell_type": "code",
      "execution_count": null,
      "metadata": {
        "colab": {
          "base_uri": "https://localhost:8080/"
        },
        "id": "t3y8eHlZvFPT",
        "outputId": "3cc68d5c-d5e8-4d38-bb5e-21bed21fc241"
      },
      "outputs": [
        {
          "output_type": "execute_result",
          "data": {
            "text/plain": [
              "4"
            ]
          },
          "metadata": {},
          "execution_count": 38
        }
      ],
      "source": [
        "squares[-3]"
      ]
    },
    {
      "cell_type": "code",
      "execution_count": null,
      "metadata": {
        "colab": {
          "base_uri": "https://localhost:8080/"
        },
        "id": "CBlgqCTNvIxO",
        "outputId": "1f8d453c-3664-4b53-fed0-8c40bdab600d"
      },
      "outputs": [
        {
          "output_type": "execute_result",
          "data": {
            "text/plain": [
              "[4, 9, 16]"
            ]
          },
          "metadata": {},
          "execution_count": 39
        }
      ],
      "source": [
        "squares[-3:]"
      ]
    },
    {
      "cell_type": "code",
      "execution_count": null,
      "metadata": {
        "colab": {
          "base_uri": "https://localhost:8080/"
        },
        "id": "G9WxIhjSvMCl",
        "outputId": "78277015-87cf-41e1-89cc-fd021429593a"
      },
      "outputs": [
        {
          "output_type": "execute_result",
          "data": {
            "text/plain": [
              "[1, 4, 9, 16]"
            ]
          },
          "metadata": {},
          "execution_count": 40
        }
      ],
      "source": [
        "squares[:]"
      ]
    },
    {
      "cell_type": "code",
      "execution_count": null,
      "metadata": {
        "id": "sM5RE_5PvPN5"
      },
      "outputs": [],
      "source": [
        "## Unlinke string lists are mutables types"
      ]
    },
    {
      "cell_type": "code",
      "execution_count": null,
      "metadata": {
        "colab": {
          "base_uri": "https://localhost:8080/"
        },
        "id": "l5UMOW25vcWH",
        "outputId": "073018aa-a8e2-4830-96ea-fc18f41858ab"
      },
      "outputs": [
        {
          "output_type": "execute_result",
          "data": {
            "text/plain": [
              "[1, 8, 27, 65, 125]"
            ]
          },
          "metadata": {},
          "execution_count": 42
        }
      ],
      "source": [
        "cubes = [1,8,27,65,125]\n",
        "cubes"
      ]
    },
    {
      "cell_type": "code",
      "execution_count": null,
      "metadata": {
        "id": "-ZINcctdviMT"
      },
      "outputs": [],
      "source": [
        "cubes[3] = 64"
      ]
    },
    {
      "cell_type": "code",
      "execution_count": null,
      "metadata": {
        "colab": {
          "base_uri": "https://localhost:8080/"
        },
        "id": "zd6uGMJzvmE4",
        "outputId": "89c7cfeb-892e-4220-9587-62eb9040d33e"
      },
      "outputs": [
        {
          "output_type": "execute_result",
          "data": {
            "text/plain": [
              "[1, 8, 27, 64, 125]"
            ]
          },
          "metadata": {},
          "execution_count": 44
        }
      ],
      "source": [
        "cubes"
      ]
    },
    {
      "cell_type": "code",
      "execution_count": null,
      "metadata": {
        "id": "kTmdgxGavm-l"
      },
      "outputs": [],
      "source": [
        "## We can add new items to the end of the list using append()"
      ]
    },
    {
      "cell_type": "code",
      "execution_count": null,
      "metadata": {
        "colab": {
          "base_uri": "https://localhost:8080/"
        },
        "id": "5i1mIZf6v1wL",
        "outputId": "ca6ab9aa-d67c-43cd-8bd2-10e01d82ef66"
      },
      "outputs": [
        {
          "output_type": "execute_result",
          "data": {
            "text/plain": [
              "[1, 8, 27, 64, 125, 216]"
            ]
          },
          "metadata": {},
          "execution_count": 46
        }
      ],
      "source": [
        "cubes.append(216)\n",
        "cubes"
      ]
    },
    {
      "cell_type": "code",
      "execution_count": null,
      "metadata": {
        "colab": {
          "base_uri": "https://localhost:8080/"
        },
        "id": "thVIFikpwFoe",
        "outputId": "179549a4-c826-43cc-fb24-dd55789b2dbf"
      },
      "outputs": [
        {
          "output_type": "execute_result",
          "data": {
            "text/plain": [
              "[1, 8, 27, 64, 125, 216]"
            ]
          },
          "metadata": {},
          "execution_count": 47
        }
      ],
      "source": [
        "cubes"
      ]
    },
    {
      "cell_type": "code",
      "execution_count": null,
      "metadata": {
        "colab": {
          "base_uri": "https://localhost:8080/"
        },
        "id": "9jA8X6yjWL2_",
        "outputId": "94f031a4-6133-4f88-b7b4-83a414edaa70"
      },
      "outputs": [
        {
          "output_type": "execute_result",
          "data": {
            "text/plain": [
              "[27, 64, 125]"
            ]
          },
          "metadata": {},
          "execution_count": 48
        }
      ],
      "source": [
        "cubes[2:5]"
      ]
    },
    {
      "cell_type": "code",
      "execution_count": null,
      "metadata": {
        "id": "acX64x44Wfa2"
      },
      "outputs": [],
      "source": [
        "cubes[:] = []"
      ]
    },
    {
      "cell_type": "code",
      "execution_count": null,
      "metadata": {
        "colab": {
          "base_uri": "https://localhost:8080/"
        },
        "id": "hGTH-UxxWjfg",
        "outputId": "51563239-8929-4bed-d408-f7a5b731aef8"
      },
      "outputs": [
        {
          "output_type": "execute_result",
          "data": {
            "text/plain": [
              "[]"
            ]
          },
          "metadata": {},
          "execution_count": 50
        }
      ],
      "source": [
        "cubes"
      ]
    },
    {
      "cell_type": "markdown",
      "metadata": {
        "id": "_706f1OGWp3W"
      },
      "source": [
        "### Nested List"
      ]
    },
    {
      "cell_type": "code",
      "execution_count": null,
      "metadata": {
        "id": "hi5riFqDWkdC"
      },
      "outputs": [],
      "source": [
        "a = ['a','b','c']"
      ]
    },
    {
      "cell_type": "code",
      "execution_count": null,
      "metadata": {
        "id": "ZXJsoXI-Wvrx"
      },
      "outputs": [],
      "source": [
        "b = [1,2,3]\n",
        "x = [a,b]"
      ]
    },
    {
      "cell_type": "code",
      "execution_count": null,
      "metadata": {
        "colab": {
          "base_uri": "https://localhost:8080/"
        },
        "id": "uzzeld0QW2Yw",
        "outputId": "be6c296a-3b19-4b89-b42d-e9adb3a274ee"
      },
      "outputs": [
        {
          "output_type": "execute_result",
          "data": {
            "text/plain": [
              "[['a', 'b', 'c'], [1, 2, 3]]"
            ]
          },
          "metadata": {},
          "execution_count": 53
        }
      ],
      "source": [
        "x"
      ]
    },
    {
      "cell_type": "code",
      "execution_count": null,
      "metadata": {
        "colab": {
          "base_uri": "https://localhost:8080/"
        },
        "id": "nQb0C87WW3Tk",
        "outputId": "14d32a38-a71a-4bef-c064-3ce2df2b4050"
      },
      "outputs": [
        {
          "output_type": "execute_result",
          "data": {
            "text/plain": [
              "['a', 'b', 'c']"
            ]
          },
          "metadata": {},
          "execution_count": 54
        }
      ],
      "source": [
        "x[0]"
      ]
    },
    {
      "cell_type": "code",
      "execution_count": null,
      "metadata": {
        "colab": {
          "base_uri": "https://localhost:8080/",
          "height": 35
        },
        "id": "VfNworuuW6Us",
        "outputId": "7caa5a0d-49ca-4470-aeae-5709f762e51d"
      },
      "outputs": [
        {
          "output_type": "execute_result",
          "data": {
            "text/plain": [
              "'b'"
            ],
            "application/vnd.google.colaboratory.intrinsic+json": {
              "type": "string"
            }
          },
          "metadata": {},
          "execution_count": 55
        }
      ],
      "source": [
        "x[0][1]"
      ]
    },
    {
      "cell_type": "markdown",
      "metadata": {
        "id": "BEGh2NEGXCvP"
      },
      "source": [
        "## 3.2. First Steps Towards Programming"
      ]
    },
    {
      "cell_type": "code",
      "execution_count": null,
      "metadata": {
        "colab": {
          "base_uri": "https://localhost:8080/"
        },
        "id": "U5if8ZBvW9Vb",
        "outputId": "f5223dc5-c74a-4af9-cbc7-7a5f98d4545c"
      },
      "outputs": [
        {
          "output_type": "stream",
          "name": "stdout",
          "text": [
            "0\n",
            "1\n",
            "1\n",
            "2\n",
            "3\n",
            "5\n",
            "8\n"
          ]
        }
      ],
      "source": [
        "a,b = 0,1\n",
        "while a<10:\n",
        "  print(a)\n",
        "  a,b = b,a+b"
      ]
    },
    {
      "cell_type": "code",
      "execution_count": null,
      "metadata": {
        "colab": {
          "base_uri": "https://localhost:8080/"
        },
        "id": "grM6OxkiXSz8",
        "outputId": "5b8b9e7b-1963-4939-ae63-7f7d269cf1fb"
      },
      "outputs": [
        {
          "output_type": "stream",
          "name": "stdout",
          "text": [
            "The value of i is:  65536\n"
          ]
        }
      ],
      "source": [
        "i = 256 * 256\n",
        "print(\"The value of i is: \", i)"
      ]
    },
    {
      "cell_type": "code",
      "execution_count": null,
      "metadata": {
        "colab": {
          "base_uri": "https://localhost:8080/"
        },
        "id": "qbfYWrdgXqMl",
        "outputId": "bc39aead-df01-4126-baf0-d8a6c8b6dfa4"
      },
      "outputs": [
        {
          "output_type": "stream",
          "name": "stdout",
          "text": [
            "0 , 1 , 1 , 2 , 3 , 5 , 8 , 13 , 21 , 34 , 55 , 89 , "
          ]
        }
      ],
      "source": [
        "a,b = 0,1\n",
        "while a<100:\n",
        "  print(a,end = ' , ')\n",
        "  a,b = b, a+b"
      ]
    },
    {
      "cell_type": "code",
      "execution_count": null,
      "metadata": {
        "id": "9FnEcld_X-UK",
        "colab": {
          "base_uri": "https://localhost:8080/"
        },
        "outputId": "003a9954-fa00-48e4-99f2-72f44e6e7959"
      },
      "outputs": [
        {
          "output_type": "stream",
          "name": "stdout",
          "text": [
            "Enter the number: 1\n",
            "Number is Single\n"
          ]
        }
      ],
      "source": [
        "x = int(input(\"Enter the number: \"))\n",
        "if x < 0:\n",
        "  x = 0\n",
        "  print(\"Negative changed to zero\")\n",
        "elif x == 0:\n",
        "  print(\"Number is zero\")\n",
        "elif x == 1:\n",
        "  print(\"Number is Single\")\n",
        "else:\n",
        "  print(\"More\")"
      ]
    },
    {
      "cell_type": "code",
      "execution_count": null,
      "metadata": {
        "id": "wKL6T-QCYzpd",
        "colab": {
          "base_uri": "https://localhost:8080/"
        },
        "outputId": "faf085b8-0218-40f5-ca3f-0439bfab7b18"
      },
      "outputs": [
        {
          "output_type": "stream",
          "name": "stdout",
          "text": [
            "30\n"
          ]
        }
      ],
      "source": [
        "x = 20\n",
        "y = 10\n",
        "r = x+y\n",
        "print(r)"
      ]
    },
    {
      "cell_type": "code",
      "execution_count": null,
      "metadata": {
        "id": "aPpQlTVhQYP3",
        "colab": {
          "base_uri": "https://localhost:8080/"
        },
        "outputId": "cc8fb16b-7aa9-4c13-a832-bf49442e8b89"
      },
      "outputs": [
        {
          "output_type": "stream",
          "name": "stdout",
          "text": [
            "Enter first number: 5\n",
            "Enter 2nd number: 3\n",
            "Sum:  8\n",
            "Sub:  2\n",
            "Mul:  15\n",
            "Div:  1.6666666666666667\n"
          ]
        }
      ],
      "source": [
        "x = int(input(\"Enter first number: \"))\n",
        "y = int(input(\"Enter 2nd number: \"))\n",
        "\n",
        "r = x + y\n",
        "s = x-y\n",
        "m = x * y\n",
        "d = x/y\n",
        "print(\"Sum: \",r)\n",
        "print(\"Sub: \",s)\n",
        "print(\"Mul: \",m)\n",
        "print(\"Div: \",d)"
      ]
    },
    {
      "cell_type": "code",
      "execution_count": null,
      "metadata": {
        "id": "DnXfl6cXSziD",
        "colab": {
          "base_uri": "https://localhost:8080/"
        },
        "outputId": "4774a980-261f-4fdd-941f-2017d4b31fee"
      },
      "outputs": [
        {
          "output_type": "stream",
          "name": "stdout",
          "text": [
            "0\n",
            "1\n",
            "1\n",
            "2\n",
            "3\n",
            "5\n",
            "8\n",
            "13\n",
            "21\n",
            "34\n",
            "55\n",
            "89\n"
          ]
        }
      ],
      "source": [
        "a,b = 0,1\n",
        "while a<100:\n",
        "  print(a)\n",
        "  a,b = b, a+b"
      ]
    },
    {
      "cell_type": "code",
      "execution_count": null,
      "metadata": {
        "id": "CKP9xv55UUPu",
        "colab": {
          "base_uri": "https://localhost:8080/"
        },
        "outputId": "899031a3-e6ea-49d6-8a01-495e6b89b16c"
      },
      "outputs": [
        {
          "output_type": "stream",
          "name": "stdout",
          "text": [
            "2\n",
            "4\n",
            "8\n",
            "16\n",
            "32\n",
            "64\n",
            "128\n",
            "256\n",
            "512\n",
            "1024\n"
          ]
        }
      ],
      "source": [
        "for i in range(1,11):\n",
        "    print( 2 ** i)"
      ]
    },
    {
      "cell_type": "code",
      "execution_count": null,
      "metadata": {
        "id": "N-QjakYEVlmi",
        "colab": {
          "base_uri": "https://localhost:8080/"
        },
        "outputId": "aef28ff8-f0f9-4a81-df5e-fa1b89103681"
      },
      "outputs": [
        {
          "output_type": "execute_result",
          "data": {
            "text/plain": [
              "7"
            ]
          },
          "metadata": {},
          "execution_count": 64
        }
      ],
      "source": [
        "name = 'Tamanna'\n",
        "len(name)"
      ]
    },
    {
      "cell_type": "code",
      "execution_count": null,
      "metadata": {
        "id": "jJ9_erloVscF",
        "colab": {
          "base_uri": "https://localhost:8080/"
        },
        "outputId": "8bf9effc-129d-4ad5-c743-19dd552e9dd6"
      },
      "outputs": [
        {
          "output_type": "stream",
          "name": "stdout",
          "text": [
            "Mango 5\n",
            "Litchi 6\n",
            "Banana 6\n"
          ]
        }
      ],
      "source": [
        "fruits = ['Mango','Litchi','Banana']\n",
        "for word in fruits:\n",
        "  print(word, len(word))"
      ]
    },
    {
      "cell_type": "code",
      "execution_count": null,
      "metadata": {
        "id": "ALnCtsRaW102",
        "colab": {
          "base_uri": "https://localhost:8080/"
        },
        "outputId": "8d2dffb1-4296-44f1-e385-6c396f4faae3"
      },
      "outputs": [
        {
          "output_type": "stream",
          "name": "stdout",
          "text": [
            "600\n"
          ]
        }
      ],
      "source": [
        "width = 10\n",
        "length = 12\n",
        "height = 5\n",
        "area = width * length * height\n",
        "print(area)\n"
      ]
    },
    {
      "cell_type": "code",
      "execution_count": null,
      "metadata": {
        "id": "6Jrx-DQyXIL0",
        "colab": {
          "base_uri": "https://localhost:8080/",
          "height": 53
        },
        "outputId": "37c8d9be-0d62-4f63-fe1b-9765e83a08b9"
      },
      "outputs": [
        {
          "output_type": "stream",
          "name": "stdout",
          "text": [
            "5\n"
          ]
        },
        {
          "output_type": "execute_result",
          "data": {
            "text/plain": [
              "'itch'"
            ],
            "application/vnd.google.colaboratory.intrinsic+json": {
              "type": "string"
            }
          },
          "metadata": {},
          "execution_count": 67
        }
      ],
      "source": [
        "z = len(fruits[0])\n",
        "print(z)\n",
        "fruits[1][1:5]"
      ]
    },
    {
      "cell_type": "code",
      "execution_count": null,
      "metadata": {
        "id": "6g422YhrXLa_"
      },
      "outputs": [],
      "source": [
        "users = {'Sajeeb':'Active', 'Shanto': 'Inactive', 'Tamanna':'Active'}\n",
        "for x,y in users.copy().items():\n",
        "  if y == 'Inactive':\n",
        "    del users[x]"
      ]
    },
    {
      "cell_type": "code",
      "execution_count": null,
      "metadata": {
        "id": "ILENBNlEaYgW",
        "colab": {
          "base_uri": "https://localhost:8080/"
        },
        "outputId": "8fe40404-dc18-4e8d-ff67-eab38315ae23"
      },
      "outputs": [
        {
          "output_type": "execute_result",
          "data": {
            "text/plain": [
              "{'Sajeeb': 'Active', 'Tamanna': 'Active'}"
            ]
          },
          "metadata": {},
          "execution_count": 69
        }
      ],
      "source": [
        "users"
      ]
    },
    {
      "cell_type": "code",
      "execution_count": null,
      "metadata": {
        "id": "SFsK3ZDLaZ9v",
        "colab": {
          "base_uri": "https://localhost:8080/"
        },
        "outputId": "23b33d57-d2c0-49b4-aee3-58f053419b7f"
      },
      "outputs": [
        {
          "output_type": "execute_result",
          "data": {
            "text/plain": [
              "{'Sajeeb': 'Active', 'Tamanna': 'Active'}"
            ]
          },
          "metadata": {},
          "execution_count": 70
        }
      ],
      "source": [
        "active_users = {}\n",
        "for x, y in users.items():\n",
        "  if y=='Active':\n",
        "    active_users[x] = y\n",
        "\n",
        "active_users"
      ]
    },
    {
      "cell_type": "markdown",
      "metadata": {
        "id": "wx6nSHlHbDuw"
      },
      "source": [
        "Range Function"
      ]
    },
    {
      "cell_type": "code",
      "execution_count": null,
      "metadata": {
        "id": "X05YZpWBbBHE",
        "colab": {
          "base_uri": "https://localhost:8080/"
        },
        "outputId": "82d0a527-ca73-4ed5-b8e1-24733a66af57"
      },
      "outputs": [
        {
          "output_type": "stream",
          "name": "stdout",
          "text": [
            "0\n",
            "1\n",
            "2\n",
            "3\n",
            "4\n"
          ]
        }
      ],
      "source": [
        "for i in range (5):\n",
        "  print(i)"
      ]
    },
    {
      "cell_type": "code",
      "execution_count": null,
      "metadata": {
        "id": "FghMAEUgbJdh",
        "colab": {
          "base_uri": "https://localhost:8080/"
        },
        "outputId": "1d19bda3-af76-4929-87cf-7df555d06b80"
      },
      "outputs": [
        {
          "output_type": "execute_result",
          "data": {
            "text/plain": [
              "[5, 6, 7, 8, 9]"
            ]
          },
          "metadata": {},
          "execution_count": 72
        }
      ],
      "source": [
        "list(range(5,10))"
      ]
    },
    {
      "cell_type": "code",
      "execution_count": null,
      "metadata": {
        "id": "-yMY5aJtbPsn",
        "colab": {
          "base_uri": "https://localhost:8080/"
        },
        "outputId": "e8294b08-e372-4e7a-95b0-f21b2b0910ff"
      },
      "outputs": [
        {
          "output_type": "execute_result",
          "data": {
            "text/plain": [
              "[0, 3, 6, 9]"
            ]
          },
          "metadata": {},
          "execution_count": 73
        }
      ],
      "source": [
        "list(range(0,10,3)) #range(start,end,gap)"
      ]
    },
    {
      "cell_type": "code",
      "execution_count": null,
      "metadata": {
        "id": "r9DuZhHMba8U",
        "colab": {
          "base_uri": "https://localhost:8080/"
        },
        "outputId": "05db86bb-8abc-440f-b7e8-5df2b45851f5"
      },
      "outputs": [
        {
          "output_type": "stream",
          "name": "stdout",
          "text": [
            "Sajeeb\n",
            "had\n",
            "a\n",
            "little\n",
            "lamb\n"
          ]
        }
      ],
      "source": [
        "a = ['Sajeeb', 'had', 'a','little', 'lamb']\n",
        "for i in range(len(a)):\n",
        "  print(a[i])"
      ]
    },
    {
      "cell_type": "code",
      "execution_count": null,
      "metadata": {
        "id": "fFtHtsjlbtlR",
        "colab": {
          "base_uri": "https://localhost:8080/"
        },
        "outputId": "79c46aee-3c72-4b6b-b4d5-942e8b8d0e12"
      },
      "outputs": [
        {
          "output_type": "execute_result",
          "data": {
            "text/plain": [
              "6"
            ]
          },
          "metadata": {},
          "execution_count": 75
        }
      ],
      "source": [
        "sum(range(4))"
      ]
    },
    {
      "cell_type": "markdown",
      "metadata": {
        "id": "Q25pXk5DcX_u"
      },
      "source": [
        "Find Prime Number"
      ]
    },
    {
      "cell_type": "code",
      "execution_count": null,
      "metadata": {
        "id": "tTw_qRmNcDYJ",
        "colab": {
          "base_uri": "https://localhost:8080/"
        },
        "outputId": "4db62a88-ccd7-42c9-ce30-f5e63891f166"
      },
      "outputs": [
        {
          "output_type": "stream",
          "name": "stdout",
          "text": [
            "2 is a prime number\n",
            "3 is a prime number\n",
            "4 equals 2 * 2\n",
            "5 is a prime number\n",
            "6 equals 2 * 3\n",
            "7 is a prime number\n",
            "8 equals 2 * 4\n",
            "9 equals 3 * 3\n"
          ]
        }
      ],
      "source": [
        "for n in range(2, 10):\n",
        "    for x in range(2, n):\n",
        "        if n % x == 0:\n",
        "            print(n, 'equals', x, '*', n//x)\n",
        "            break\n",
        "    else:\n",
        "        # loop fell through without finding a factor\n",
        "        print(n, 'is a prime number')\n"
      ]
    },
    {
      "cell_type": "markdown",
      "metadata": {
        "id": "57ZhypZxhwuf"
      },
      "source": [
        "Sum of all items in a list"
      ]
    },
    {
      "cell_type": "code",
      "execution_count": null,
      "metadata": {
        "id": "fo-T-5RmhwYI",
        "colab": {
          "base_uri": "https://localhost:8080/"
        },
        "outputId": "5301cb64-1252-4961-c554-d74febaa439b"
      },
      "outputs": [
        {
          "output_type": "stream",
          "name": "stdout",
          "text": [
            "Sum of numbers list:  23\n"
          ]
        }
      ],
      "source": [
        "numbers = [2,4,1,7,6,3]\n",
        "\n",
        "sum = 0\n",
        "for number in numbers:\n",
        "  sum = sum+ number\n",
        "print(\"Sum of numbers list: \",sum)"
      ]
    },
    {
      "cell_type": "markdown",
      "metadata": {
        "id": "nLWlsXHqi8wN"
      },
      "source": [
        "Multiply all the items in a list"
      ]
    },
    {
      "cell_type": "code",
      "execution_count": null,
      "metadata": {
        "id": "_hOIIB6Ui5TH",
        "colab": {
          "base_uri": "https://localhost:8080/"
        },
        "outputId": "df0799da-6a2f-4808-9181-e437ae8cbfa9"
      },
      "outputs": [
        {
          "output_type": "stream",
          "name": "stdout",
          "text": [
            "Multiply of list items:  1008\n"
          ]
        }
      ],
      "source": [
        "mul = 1\n",
        "for number in numbers:\n",
        "  mul = mul * number\n",
        "\n",
        "print(\"Multiply of list items: \",mul)"
      ]
    },
    {
      "cell_type": "markdown",
      "metadata": {
        "id": "iFKjjrVtjUNP"
      },
      "source": [
        "Find the largest from the list"
      ]
    },
    {
      "cell_type": "code",
      "execution_count": null,
      "metadata": {
        "id": "2FA3ItLCjZDz",
        "colab": {
          "base_uri": "https://localhost:8080/"
        },
        "outputId": "7f8e3751-74c9-41cf-b352-8aa5d1cfe096"
      },
      "outputs": [
        {
          "output_type": "stream",
          "name": "stdout",
          "text": [
            "Largest Number is :  7\n"
          ]
        }
      ],
      "source": [
        "largest = numbers[0]\n",
        "for number in numbers:\n",
        "  if number > largest:\n",
        "    largest = number\n",
        "\n",
        "\n",
        "print(\"Largest Number is : \",largest)"
      ]
    },
    {
      "cell_type": "markdown",
      "metadata": {
        "id": "vVGYPEWkkUXd"
      },
      "source": [
        "Find smallest from the list items"
      ]
    },
    {
      "cell_type": "code",
      "execution_count": null,
      "metadata": {
        "id": "l4ZEw4k4kZYm",
        "colab": {
          "base_uri": "https://localhost:8080/"
        },
        "outputId": "da4a61e3-e8fd-43be-d423-a10ae5514a68"
      },
      "outputs": [
        {
          "output_type": "stream",
          "name": "stdout",
          "text": [
            "Smallest Number in the items:  1\n"
          ]
        }
      ],
      "source": [
        "smallest = numbers[0]\n",
        "for number in numbers:\n",
        "  if number < smallest:\n",
        "    smallest = number\n",
        "\n",
        "print(\"Smallest Number in the items: \", smallest)"
      ]
    },
    {
      "cell_type": "markdown",
      "metadata": {
        "id": "rViXtkgLkw11"
      },
      "source": [
        "Sorting in list items"
      ]
    },
    {
      "cell_type": "code",
      "execution_count": null,
      "metadata": {
        "id": "toq6Kn_Rk5sM",
        "colab": {
          "base_uri": "https://localhost:8080/"
        },
        "outputId": "8ba9050b-eb22-4bea-b8e9-7a9e5b163e05"
      },
      "outputs": [
        {
          "output_type": "stream",
          "name": "stdout",
          "text": [
            "Sorted list: [1, 2, 3, 4, 6, 7]\n"
          ]
        }
      ],
      "source": [
        "n = len(numbers)\n",
        "for i in range(n):\n",
        "    for j in range(0, n-i-1):\n",
        "        if numbers[j] > numbers[j+1]:\n",
        "            # Swap elements if they are in the wrong order\n",
        "            numbers[j], numbers[j+1] = numbers[j+1], numbers[j]\n",
        "\n",
        "print(\"Sorted list:\", numbers)"
      ]
    },
    {
      "cell_type": "markdown",
      "metadata": {
        "id": "uUVySbHonxtW"
      },
      "source": [
        "Remove Duplicate"
      ]
    },
    {
      "cell_type": "code",
      "execution_count": null,
      "metadata": {
        "id": "xs59teMxnzyQ",
        "colab": {
          "base_uri": "https://localhost:8080/"
        },
        "outputId": "1be4bc45-2547-4802-8353-3585d9800675"
      },
      "outputs": [
        {
          "output_type": "stream",
          "name": "stdout",
          "text": [
            "[1, 3, 4, 5, 6]\n"
          ]
        }
      ],
      "source": [
        "lists = [1,1,3,4,5,6,5]\n",
        "\n",
        "new_list = []\n",
        "for number in lists:\n",
        "  if number not in new_list:\n",
        "    new_list.append(number)\n",
        "print(new_list)"
      ]
    },
    {
      "cell_type": "markdown",
      "metadata": {
        "id": "lLYB-6dkGOzK"
      },
      "source": [
        "Swapping Numbers"
      ]
    },
    {
      "cell_type": "code",
      "execution_count": null,
      "metadata": {
        "id": "CgwE7GU7GQdD",
        "colab": {
          "base_uri": "https://localhost:8080/"
        },
        "outputId": "e7cb9d39-6f82-48cb-f4fc-ce77fe358129"
      },
      "outputs": [
        {
          "output_type": "stream",
          "name": "stdout",
          "text": [
            "Num1 is 20 and Num2 is 30 \n",
            "Num1 is 30 and Num2 is 20 \n"
          ]
        }
      ],
      "source": [
        "num1 = 20\n",
        "num2 = 30\n",
        "\n",
        "print(f\"Num1 is {num1} and Num2 is {num2} \")\n",
        "\n",
        "temp = num1\n",
        "num1 = num2\n",
        "num2 = temp\n",
        "\n",
        "print(f\"Num1 is {num1} and Num2 is {num2} \")"
      ]
    },
    {
      "cell_type": "markdown",
      "metadata": {
        "id": "mUpgQ0HSG21U"
      },
      "source": [
        "Check whether number is Prime or not"
      ]
    },
    {
      "cell_type": "code",
      "execution_count": null,
      "metadata": {
        "id": "eO8AMFDeG58-",
        "colab": {
          "base_uri": "https://localhost:8080/"
        },
        "outputId": "89378663-0444-4e43-8f18-d343a5b06d37"
      },
      "outputs": [
        {
          "output_type": "stream",
          "name": "stdout",
          "text": [
            "Enter Number you want to check: 5\n",
            "5 is prime\n"
          ]
        }
      ],
      "source": [
        "number = int(input(\"Enter Number you want to check: \"))\n",
        "count = 0\n",
        "for i in range(2,number):\n",
        "    if number % i ==0:\n",
        "      count = count + 1\n",
        "\n",
        "if (count != 0):\n",
        "  print(f'{number} is not prime')\n",
        "else:\n",
        "  print(f'{number} is prime')\n"
      ]
    },
    {
      "cell_type": "markdown",
      "metadata": {
        "id": "5YyLk13pJZAv"
      },
      "source": [
        "Find Factorial of a number\n"
      ]
    },
    {
      "cell_type": "code",
      "execution_count": null,
      "metadata": {
        "id": "lKngNEzFJc6r",
        "colab": {
          "base_uri": "https://localhost:8080/"
        },
        "outputId": "3a7c92eb-3e8a-4321-bce9-ae2fe2d3ea02"
      },
      "outputs": [
        {
          "output_type": "stream",
          "name": "stdout",
          "text": [
            "Enter the number: 4\n",
            "Factorial of 4 is 24\n"
          ]
        }
      ],
      "source": [
        "num = int(input(\"Enter the number: \"))\n",
        "fac = 1\n",
        "for i in range(1,num+1):\n",
        "  fac = fac * i\n",
        "\n",
        "print(f'Factorial of {num} is {fac}')"
      ]
    },
    {
      "cell_type": "code",
      "execution_count": null,
      "metadata": {
        "id": "QY7KyqtJKCzY",
        "colab": {
          "base_uri": "https://localhost:8080/"
        },
        "outputId": "be8ed778-3905-45e7-9e6e-2157668c0b83"
      },
      "outputs": [
        {
          "output_type": "stream",
          "name": "stdout",
          "text": [
            "[2, 6, 24, 720, 362880, 40320]\n"
          ]
        }
      ],
      "source": [
        "number_list = [2,3,4,6,9,8]\n",
        "number_fac_list = []\n",
        "\n",
        "for i in range(len(number_list)):\n",
        "  fac = 1\n",
        "  for j in range(1,number_list[i]+1):\n",
        "    fac = fac * j\n",
        "  number_fac_list.append(fac)\n",
        "print(number_fac_list)"
      ]
    },
    {
      "cell_type": "markdown",
      "metadata": {
        "id": "NVOompVeMdy_"
      },
      "source": [
        "Fibonacci Number\n"
      ]
    },
    {
      "cell_type": "code",
      "execution_count": null,
      "metadata": {
        "id": "5uT9Oi_XMflw",
        "colab": {
          "base_uri": "https://localhost:8080/"
        },
        "outputId": "c6207afa-fcf9-4f96-972f-898676ccf0b9"
      },
      "outputs": [
        {
          "output_type": "stream",
          "name": "stdout",
          "text": [
            "0\n",
            "1\n",
            "1\n",
            "2\n",
            "3\n",
            "5\n",
            "8\n"
          ]
        }
      ],
      "source": [
        "a,b = 0,1\n",
        "while a < 10:\n",
        "  print(a)\n",
        "  a, b = b, a+b\n"
      ]
    },
    {
      "cell_type": "markdown",
      "metadata": {
        "id": "Vky4oOEXR_dY"
      },
      "source": [
        "Find Maximum and Minimum"
      ]
    },
    {
      "cell_type": "code",
      "execution_count": null,
      "metadata": {
        "id": "iUvd7dVDSB0i",
        "colab": {
          "base_uri": "https://localhost:8080/"
        },
        "outputId": "e892327a-4aa1-4215-ba16-dbbe9ba05602"
      },
      "outputs": [
        {
          "output_type": "stream",
          "name": "stdout",
          "text": [
            "Maximum Number:  26\n",
            "Minimum Number:  4\n"
          ]
        }
      ],
      "source": [
        "numbers = [17,4,19,23,5,26,25]\n",
        "max = numbers[0]\n",
        "min = numbers[0]\n",
        "for i in range(len(numbers)):\n",
        "  if numbers[i] > max:\n",
        "    max = numbers[i]\n",
        "  if numbers[i] < min:\n",
        "    min = numbers[i]\n",
        "print(\"Maximum Number: \",max)\n",
        "print(\"Minimum Number: \",min)\n"
      ]
    },
    {
      "cell_type": "markdown",
      "metadata": {
        "id": "5_PCHW5GS1jF"
      },
      "source": [
        "Length of a list"
      ]
    },
    {
      "cell_type": "code",
      "execution_count": null,
      "metadata": {
        "id": "QYfMRmDbS7Yq",
        "colab": {
          "base_uri": "https://localhost:8080/"
        },
        "outputId": "7c5fadea-1f11-4308-f62a-b35cf60dc83d"
      },
      "outputs": [
        {
          "output_type": "stream",
          "name": "stdout",
          "text": [
            "Length of the list:  7\n"
          ]
        }
      ],
      "source": [
        "length = 0\n",
        "for number in numbers:\n",
        "  length = length + 1\n",
        "print(\"Length of the list: \",length)"
      ]
    },
    {
      "cell_type": "markdown",
      "metadata": {
        "id": "-uUiMwSVTk27"
      },
      "source": [
        "Swap between first element and last element in list"
      ]
    },
    {
      "cell_type": "code",
      "execution_count": null,
      "metadata": {
        "id": "5nh8kUNWTNcf",
        "colab": {
          "base_uri": "https://localhost:8080/"
        },
        "outputId": "06b7cd2d-1dbe-4064-8c48-3fbb373602e3"
      },
      "outputs": [
        {
          "output_type": "stream",
          "name": "stdout",
          "text": [
            "New List:  [25, 4, 19, 23, 5, 26, 17]\n"
          ]
        }
      ],
      "source": [
        "temp = numbers[0] # 17\n",
        "numbers[0] = numbers[length-1] #26\n",
        "numbers[length-1] = temp #17\n",
        "\n",
        "\n",
        "print(\"New List: \",numbers)\n",
        "\n"
      ]
    },
    {
      "cell_type": "code",
      "execution_count": null,
      "metadata": {
        "id": "2M25x0EuV8ad",
        "colab": {
          "base_uri": "https://localhost:8080/"
        },
        "outputId": "3af863b7-f8b2-4172-8d44-9c8e8220ae92"
      },
      "outputs": [
        {
          "output_type": "stream",
          "name": "stdout",
          "text": [
            "[17, 4, 19, 23, 5, 26, 25]\n"
          ]
        }
      ],
      "source": [
        "numbers[0], numbers[-1] = numbers[-1],numbers[0]\n",
        "print(numbers)"
      ]
    },
    {
      "cell_type": "code",
      "execution_count": null,
      "metadata": {
        "id": "RW0LTk4zWNpN",
        "colab": {
          "base_uri": "https://localhost:8080/"
        },
        "outputId": "c05c5c7c-7766-4993-8c61-53e1565d183b"
      },
      "outputs": [
        {
          "output_type": "stream",
          "name": "stdout",
          "text": [
            "[4, 19, 23, 5, 26]\n",
            "[19, 23, 5]\n",
            "[26, 19, 23, 5, 4]\n",
            "[25, 26, 19, 23, 5, 4, 17]\n"
          ]
        }
      ],
      "source": [
        "first, *second ,third = numbers\n",
        "print(second)\n",
        "start, * middle , end = second\n",
        "print(middle)\n",
        "second = [end, *middle, start]\n",
        "print(second)\n",
        "numbers = [third, *second, first]\n",
        "\n",
        "print(numbers)"
      ]
    },
    {
      "cell_type": "markdown",
      "metadata": {
        "id": "iyfDaG7bb8Qr"
      },
      "source": [
        "Swap any Two Elements based on position\n"
      ]
    },
    {
      "cell_type": "code",
      "execution_count": null,
      "metadata": {
        "id": "5I7SPKZfXH9i",
        "colab": {
          "base_uri": "https://localhost:8080/"
        },
        "outputId": "b4d2b23d-1053-42d4-bbfb-e51fdd2028a5"
      },
      "outputs": [
        {
          "output_type": "stream",
          "name": "stdout",
          "text": [
            "[25, 26, 19, 23, 5, 4, 17]\n",
            "Enter the first position index you want to swap: 2\n",
            "Enter the position index you want to swap: 3\n",
            "[25, 26, 23, 19, 5, 4, 17]\n"
          ]
        }
      ],
      "source": [
        "print(numbers)\n",
        "pos1 = int(input(\"Enter the first position index you want to swap: \"))\n",
        "pos2 = int(input(\"Enter the position index you want to swap: \"))\n",
        "\n",
        "numbers[pos1], numbers[pos2] = numbers[pos2], numbers[pos1]\n",
        "print(numbers)"
      ]
    },
    {
      "cell_type": "markdown",
      "metadata": {
        "id": "U6-W5fxShZz4"
      },
      "source": [
        "Remove Value on nth occurence"
      ]
    },
    {
      "cell_type": "code",
      "execution_count": null,
      "metadata": {
        "id": "K8dvxV9ocY6q",
        "colab": {
          "base_uri": "https://localhost:8080/"
        },
        "outputId": "6cea9909-464f-4014-e285-7a48a90c9293"
      },
      "outputs": [
        {
          "output_type": "execute_result",
          "data": {
            "text/plain": [
              "['geeks', 'for']"
            ]
          },
          "metadata": {},
          "execution_count": 94
        }
      ],
      "source": [
        "new_list = ['geeks','for','geeks']\n",
        "word = 'geeks'\n",
        "n = 2\n",
        "count = 0\n",
        "for i in range(0,len(new_list)):\n",
        "  if new_list[i] == word:\n",
        "    count = count + 1\n",
        "    if(count == n):\n",
        "      del new_list[i]\n",
        "new_list"
      ]
    },
    {
      "cell_type": "markdown",
      "metadata": {
        "id": "9wvkckqnjFAY"
      },
      "source": [
        "Searching"
      ]
    },
    {
      "cell_type": "code",
      "execution_count": null,
      "metadata": {
        "colab": {
          "base_uri": "https://localhost:8080/"
        },
        "id": "PRdoQc4BjF9P",
        "outputId": "6de9906f-1a81-40db-f0e8-f7a0482ad470"
      },
      "outputs": [
        {
          "output_type": "stream",
          "name": "stdout",
          "text": [
            "Enter the number you want to search: 23\n",
            "23 found in index no. 2\n"
          ]
        }
      ],
      "source": [
        "n = int(input(\"Enter the number you want to search: \"))\n",
        "c = 0\n",
        "for i in range(0,length):\n",
        "  if numbers[i] == n:\n",
        "    c = 1\n",
        "    break\n",
        "\n",
        "if c == 1:\n",
        "  print(f'{n} found in index no. {i}')\n",
        "else:\n",
        "  print(f'{n} is not in the list')\n"
      ]
    },
    {
      "cell_type": "markdown",
      "source": [
        "Clear a list"
      ],
      "metadata": {
        "id": "lhAADaJv2GZS"
      }
    },
    {
      "cell_type": "code",
      "source": [
        "mylist = [1,2,3,4,5,6]\n",
        "del mylist[3:4]\n",
        "mylist"
      ],
      "metadata": {
        "colab": {
          "base_uri": "https://localhost:8080/"
        },
        "id": "R7zRpljq29wV",
        "outputId": "ad746299-2ad5-4672-9a31-b5fe4e1e8801"
      },
      "execution_count": null,
      "outputs": [
        {
          "output_type": "execute_result",
          "data": {
            "text/plain": [
              "[1, 2, 3, 5, 6]"
            ]
          },
          "metadata": {},
          "execution_count": 96
        }
      ]
    },
    {
      "cell_type": "markdown",
      "source": [
        "Reverse list value"
      ],
      "metadata": {
        "id": "9_wamPtU3x6d"
      }
    },
    {
      "cell_type": "code",
      "source": [
        "mylist[::-1]"
      ],
      "metadata": {
        "colab": {
          "base_uri": "https://localhost:8080/"
        },
        "id": "p8POKXxE3T8J",
        "outputId": "e2ca23de-75f4-4d6f-c07e-08d27c89b241"
      },
      "execution_count": null,
      "outputs": [
        {
          "output_type": "execute_result",
          "data": {
            "text/plain": [
              "[6, 5, 3, 2, 1]"
            ]
          },
          "metadata": {},
          "execution_count": 110
        }
      ]
    },
    {
      "cell_type": "markdown",
      "source": [
        "Count occurence in a list"
      ],
      "metadata": {
        "id": "jrthsHjv5GGr"
      }
    },
    {
      "cell_type": "code",
      "source": [
        "number_list = [10,2,10,3,10,5,10,7,2]\n",
        "x = 2\n",
        "count = 0\n",
        "for number in number_list:\n",
        "  if x == number:\n",
        "    count = count + 1\n",
        "print(f'{x} occurence in list {count} times')"
      ],
      "metadata": {
        "colab": {
          "base_uri": "https://localhost:8080/"
        },
        "id": "H3SF4f8u371p",
        "outputId": "3b3e76ba-705d-4b12-9603-70195d7961d3"
      },
      "execution_count": null,
      "outputs": [
        {
          "output_type": "stream",
          "name": "stdout",
          "text": [
            "2 occurence in list 2 times\n"
          ]
        }
      ]
    },
    {
      "cell_type": "markdown",
      "source": [
        "using Counter"
      ],
      "metadata": {
        "id": "60MCzp0D8HjT"
      }
    },
    {
      "cell_type": "code",
      "source": [
        "z = 10\n",
        "from collections import Counter\n",
        "diction = Counter(number_list)\n",
        "diction\n",
        "print(\"{} occured {} times\".format(z,diction[z]))"
      ],
      "metadata": {
        "colab": {
          "base_uri": "https://localhost:8080/"
        },
        "id": "BhrGkSFo8IxB",
        "outputId": "675b9225-5d70-4b44-c31d-db57a40e5ced"
      },
      "execution_count": null,
      "outputs": [
        {
          "output_type": "stream",
          "name": "stdout",
          "text": [
            "10 occured 4 times\n"
          ]
        }
      ]
    },
    {
      "cell_type": "markdown",
      "source": [
        "2nd largest number in a list"
      ],
      "metadata": {
        "id": "XB3wNCe69Ksn"
      }
    },
    {
      "cell_type": "code",
      "source": [
        "lists = [10,24,45,99,70]\n",
        "lists.sort()\n",
        "lists"
      ],
      "metadata": {
        "colab": {
          "base_uri": "https://localhost:8080/"
        },
        "id": "NNmMyDZe8VRY",
        "outputId": "4e15f291-5385-40a6-a530-9ce1ab19f1a7"
      },
      "execution_count": null,
      "outputs": [
        {
          "output_type": "execute_result",
          "data": {
            "text/plain": [
              "[10, 24, 45, 70, 99]"
            ]
          },
          "metadata": {},
          "execution_count": 122
        }
      ]
    },
    {
      "cell_type": "code",
      "source": [],
      "metadata": {
        "id": "IB9mPQSC9Y7X"
      },
      "execution_count": null,
      "outputs": []
    }
  ],
  "metadata": {
    "colab": {
      "provenance": []
    },
    "kernelspec": {
      "display_name": "Python 3",
      "name": "python3"
    },
    "language_info": {
      "name": "python"
    }
  },
  "nbformat": 4,
  "nbformat_minor": 0
}